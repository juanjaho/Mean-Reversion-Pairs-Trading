{
 "cells": [
  {
   "cell_type": "code",
   "execution_count": null,
   "metadata": {},
   "outputs": [],
   "source": [
    "import bs4 as bs\n",
    "import requests\n",
    "import yfinance as yf\n",
    "import datetime\n",
    "import numpy as np\n",
    "import pandas as pd\n",
    "import matplotlib.pyplot as plt\n",
    "plt.style.use('ggplot')\n",
    "plt.rcParams['figure.figsize'] = (15, 6)\n",
    "import statsmodels.api as sm\n",
    "from statsmodels.tsa.stattools import coint, adfuller\n",
    "from statsmodels.stats.diagnostic import het_arch\n",
    "from statsmodels.stats.stattools import jarque_bera\n",
    "from pykalman import KalmanFilter\n",
    "import yfinance as yf\n",
    "from math import floor\n",
    "\n",
    "# ignore warnings\n",
    "import warnings\n",
    "warnings.filterwarnings('ignore')\n"
   ]
  },
  {
   "cell_type": "code",
   "execution_count": null,
   "metadata": {},
   "outputs": [],
   "source": [
    "# resp = requests.get('http://en.wikipedia.org/wiki/List_of_S%26P_500_companies')\n",
    "# soup = bs.BeautifulSoup(resp.text, 'lxml')\n",
    "# table = soup.find('table', {'class': 'wikitable sortable'})\n",
    "# tickers = []\n",
    "# for row in table.findAll('tr')[1:]:\n",
    "#     ticker = row.findAll('td')[0].text\n",
    "#     tickers.append(ticker)\n",
    "\n",
    "# tickers = [s.replace('\\n', '') for s in tickers]\n",
    "# start = datetime.datetime(2019,1,1)\n",
    "# end = datetime.datetime(2019,7,17)\n",
    "# download price data for each ticker in the list\n",
    "# data = yf.download(tickers, period='10y')\n",
    "#save it in a csv file\n",
    "# data.to_csv('s&p500.csv')"
   ]
  },
  {
   "cell_type": "code",
   "execution_count": null,
   "metadata": {},
   "outputs": [],
   "source": [
    "# read data from csv file\n",
    "data = pd.read_csv('./data/s&p500.csv', header=[0, 1], index_col=0)\n",
    "data = data['Open']"
   ]
  },
  {
   "cell_type": "code",
   "execution_count": null,
   "metadata": {},
   "outputs": [],
   "source": [
    "START_DATE = '2022-01-01'\n",
    "END_DATE = '2023-01-01'\n",
    "\n",
    "data = data[START_DATE:END_DATE]\n",
    "# get random 20 stocks from the universe\n",
    "# data2021 = data2021.sample(n=10, axis=1)\n",
    "\n",
    "# get ticker list of stocks that have missing data\n",
    "missing_data = data.isnull().sum()\n",
    "missing_data = missing_data[missing_data > 0]\n",
    "missing_data = missing_data.index.tolist()\n",
    "data = data.drop(missing_data, axis=1)\n",
    "\n"
   ]
  },
  {
   "cell_type": "code",
   "execution_count": null,
   "metadata": {},
   "outputs": [],
   "source": [
    "# import brute\n",
    "# from tqdm import tqdm\n",
    "# from multiprocessing import Pool\n",
    "# import multiprocessing as mp\n",
    "\n",
    "# # Function to write results to CSV\n",
    "# def write_to_csv(results_dict, file_name):\n",
    "#     with open(file_name, 'a') as f:\n",
    "#         for key in results_dict.keys():\n",
    "#             f.write(\"%s,%s,%s\\n\" % (key[0],key[1], results_dict[key]))\n",
    "\n",
    "# # Loop through all pairs using multiprocessing\n",
    "# d = {}\n",
    "# stock_list = data.columns.tolist()\n",
    "\n",
    "# # Prepare the list of pairs and corresponding data\n",
    "# pair_data_list = []\n",
    "# for i in range(len(stock_list)):\n",
    "#     for j in range(i+1, len(stock_list)):\n",
    "#         stock_pair = [missing_data[i], stock_list[j]]\n",
    "#         pair_data = data[stock_pair]\n",
    "#         pair_data_list.append((stock_pair, pair_data))\n",
    "\n",
    "# # Use multiprocessing Pool to process the pairs concurrently\n",
    "# batch_size = 2000\n",
    "\n",
    "# with Pool(processes=2) as pool:\n",
    "#     for i in range(0, len(pair_data_list), batch_size):\n",
    "#         batch_data = pair_data_list[i:i + batch_size]\n",
    "#         batch_results = list(tqdm(pool.imap_unordered(brute.calculate_sharpe, batch_data), total=len(batch_data)))\n",
    "#         # print(batch_results)\n",
    "#         write_to_csv(dict(batch_results), 'pairs.csv')\n",
    "\n"
   ]
  },
  {
   "cell_type": "code",
   "execution_count": null,
   "metadata": {},
   "outputs": [],
   "source": [
    "\n",
    "pairs = pd.read_csv('./data/ARIMA_PAIRS.csv', header=[0])\n",
    "pairs.head()"
   ]
  },
  {
   "cell_type": "code",
   "execution_count": null,
   "metadata": {},
   "outputs": [],
   "source": [
    "#count the number of pairs with sharpe ratio > 1.5\n",
    "print('Number of pairs with sharpe ratio > 1.5: ', len(pairs[pairs['sharpe_ratio'] > 4]))"
   ]
  },
  {
   "cell_type": "code",
   "execution_count": null,
   "metadata": {},
   "outputs": [],
   "source": [
    "# sort the pairs by absolute value of the sharpe ratio, ignoring the sign\n",
    "pairs['abs_sharpe_ratio'] = pairs['sharpe_ratio'].abs()\n",
    "pairs = pairs.sort_values(by=['abs_sharpe_ratio'], ascending=False)\n",
    "pairs.head(500)"
   ]
  },
  {
   "cell_type": "code",
   "execution_count": null,
   "metadata": {},
   "outputs": [],
   "source": [
    "pairs[pairs['abs_sharpe_ratio'] > 4 ]"
   ]
  }
 ],
 "metadata": {
  "kernelspec": {
   "display_name": "base",
   "language": "python",
   "name": "python3"
  },
  "language_info": {
   "codemirror_mode": {
    "name": "ipython",
    "version": 3
   },
   "file_extension": ".py",
   "mimetype": "text/x-python",
   "name": "python",
   "nbconvert_exporter": "python",
   "pygments_lexer": "ipython3",
   "version": "3.9.17"
  },
  "orig_nbformat": 4
 },
 "nbformat": 4,
 "nbformat_minor": 2
}
