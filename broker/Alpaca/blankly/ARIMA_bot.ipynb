{
 "cells": [
  {
   "cell_type": "code",
   "execution_count": 1,
   "metadata": {},
   "outputs": [],
   "source": [
    "import blankly\n",
    "import os\n",
    "from dotenv import load_dotenv\n",
    "import pprint as pp\n",
    "\n",
    "load_dotenv(\"./alpaca.env\")\n",
    "\n",
    "ALPACA_API_KEY = os.getenv(\"ALPACA_API_KEY\")\n",
    "ALPACA_SECRET_KEY = os.getenv(\"ALPACA_SECRET_KEY\")\n",
    "ALPACA_BASE_URL = os.getenv(\"ALPACA_BASE_URL\")"
   ]
  },
  {
   "cell_type": "code",
   "execution_count": 2,
   "metadata": {},
   "outputs": [
    {
     "name": "stderr",
     "output_type": "stream",
     "text": [
      "INFO: No portfolio name to load specified, defaulting to the first in the file: (alpaca_key). This is fine if there is only one portfolio in use.\n"
     ]
    },
    {
     "name": "stdout",
     "output_type": "stream",
     "text": [
      "\n",
      "Backtesting...\n",
      "Performing stepwise search to minimize aic\n",
      " ARIMA(1,1,1)(0,0,0)[0] intercept   : AIC=-1368.498, Time=0.04 sec\n",
      " ARIMA(0,1,0)(0,0,0)[0] intercept   : AIC=-1305.186, Time=0.01 sec\n",
      " ARIMA(1,1,0)(0,0,0)[0] intercept   : AIC=-1351.778, Time=0.02 sec\n",
      " ARIMA(0,1,1)(0,0,0)[0] intercept   : AIC=-1370.058, Time=0.01 sec\n",
      " ARIMA(0,1,0)(0,0,0)[0]             : AIC=-1307.157, Time=0.01 sec\n",
      " ARIMA(0,1,2)(0,0,0)[0] intercept   : AIC=-1368.673, Time=0.02 sec\n",
      " ARIMA(1,1,2)(0,0,0)[0] intercept   : AIC=-1365.276, Time=0.03 sec\n",
      " ARIMA(0,1,1)(0,0,0)[0]             : AIC=-1371.639, Time=0.02 sec\n",
      " ARIMA(1,1,1)(0,0,0)[0]             : AIC=-1369.945, Time=0.02 sec\n",
      " ARIMA(0,1,2)(0,0,0)[0]             : AIC=-1370.315, Time=0.01 sec\n",
      " ARIMA(1,1,0)(0,0,0)[0]             : AIC=-1353.690, Time=0.01 sec\n",
      " ARIMA(1,1,2)(0,0,0)[0]             : AIC=-1367.705, Time=0.03 sec\n",
      "\n",
      "Best model:  ARIMA(0,1,1)(0,0,0)[0]          \n",
      "Total fit time: 0.219 seconds\n",
      "Progress: [##########] 100% Done...\n"
     ]
    },
    {
     "name": "stderr",
     "output_type": "stream",
     "text": [
      "/Users/juansebastian/Code/Quant/Alpha/Mean-Reversion-Pairs-Trading/venv/lib/python3.9/site-packages/numpy/matrixlib/defmatrix.py:145: VisibleDeprecationWarning: Creating an ndarray from ragged nested sequences (which is a list-or-tuple of lists-or-tuples-or ndarrays with different lengths or shapes) is deprecated. If you meant to do this, you must specify 'dtype=object' when creating the ndarray.\n",
      "  arr = N.array(data, dtype=dtype, copy=copy)\n"
     ]
    }
   ],
   "source": [
    "from blankly import Strategy, StrategyState, Interface\n",
    "from blankly import Alpaca\n",
    "from blankly.indicators import sma\n",
    "from arima_model import ArimaStrategy\n",
    "\n",
    "TICKERS = [\"NWS\", \"NWSA\"]\n",
    "BENCHMARK = \"SPY\"\n",
    "TRADE_ON = \"open\"\n",
    "CARRY_FORWARD_PREVIOUS_DECISION = True\n",
    "PCT_BALANCE_TO_TRADE = 0.3\n",
    "\n",
    "temp = []\n",
    "\n",
    "\n",
    "def init(symbols, state: StrategyState):\n",
    "    # initialize this once and store it into state\n",
    "    variables = state.variables\n",
    "\n",
    "    # Download price data to give context to the algo\n",
    "    # This gets the past 150 data points prior to the start of the backtest\n",
    "    # Data kept as a deque to reduce memory usage\n",
    "    # keys: ['high', 'low', 'volume', 'close', 'open', 'time']\n",
    "    variables[\"x_history\"] = state.interface.history(\n",
    "        symbols[0], to=250, return_as=\"deque\"\n",
    "    )[TRADE_ON]\n",
    "    variables[\"y_history\"] = state.interface.history(\n",
    "        symbols[1], to=250, return_as=\"deque\"\n",
    "    )[TRADE_ON]\n",
    "\n",
    "    variables[\"model\"] = ArimaStrategy(variables[\"x_history\"], variables[\"y_history\"])\n",
    "\n",
    "    variables[\"prev_long_decision\"] = (0, 0)\n",
    "    variables[\"prev_short_decision\"] = (0, 0)\n",
    "\n",
    "\n",
    "def price_event(prices, symbols, state: StrategyState):\n",
    "    # print(prices)\n",
    "    # print(symbols)\n",
    "    # return\n",
    "    interface: Interface = state.interface\n",
    "    variables = state.variables\n",
    "    model: ArimaStrategy = variables[\"model\"]\n",
    "    x_data_point = prices[symbols[0]]\n",
    "    y_data_point = prices[symbols[1]]\n",
    "\n",
    "    # make a decision to buy, sell, or hold\n",
    "    # returns decision: 1 for long, -1 for short, 0 for close position\n",
    "    pred_beta, long_decision, short_decision = model.make_decision(\n",
    "        x_data_point, y_data_point\n",
    "    )\n",
    "\n",
    "    # if we are carrying forward the previous decision, then we need to check if the current decision is None\n",
    "    if CARRY_FORWARD_PREVIOUS_DECISION:\n",
    "        if long_decision == (None, None):\n",
    "            long_decision = variables[\"prev_long_decision\"]\n",
    "        if short_decision == (None, None):\n",
    "            short_decision = variables[\"prev_short_decision\"]\n",
    "    else:\n",
    "        if long_decision == (None, None):\n",
    "            long_decision = (0, 0)\n",
    "        if short_decision == (None, None):\n",
    "            short_decision = (0, 0)\n",
    "\n",
    "    variables[\"prev_long_decision\"] = long_decision\n",
    "    variables[\"prev_short_decision\"] = short_decision\n",
    "\n",
    "    decision = (\n",
    "        long_decision[0] + short_decision[0],\n",
    "        long_decision[1] + short_decision[1],\n",
    "    )\n",
    "\n",
    "    cash_available = interface.cash * PCT_BALANCE_TO_TRADE\n",
    "    curr_x_unit = interface.account[symbols[0]].available\n",
    "    curr_y_unit = interface.account[symbols[1]].available\n",
    "\n",
    "    # indicates whether we are buying or selling\n",
    "    sign_x = decision[0]\n",
    "    sign_y = decision[1]\n",
    "\n",
    "    target_y_unit = (cash_available // y_data_point) * sign_y\n",
    "    target_x_unit = abs(target_y_unit) * pred_beta * sign_x\n",
    "\n",
    "    # calculate the difference between the current and target units\n",
    "    x_diff = target_x_unit - curr_x_unit\n",
    "    x_diff = blankly.trunc(x_diff, 9)\n",
    "    y_diff = target_y_unit - curr_y_unit\n",
    "    y_diff = blankly.trunc(y_diff, 9)\n",
    "\n",
    "    if x_diff > 0:\n",
    "        interface.market_order(symbols[0], \"buy\", x_diff)\n",
    "    elif x_diff < 0:\n",
    "        interface.market_order(symbols[0], \"sell\", abs(x_diff))\n",
    "\n",
    "    if y_diff > 0:\n",
    "        interface.market_order(symbols[1], \"buy\", y_diff)\n",
    "    elif y_diff < 0:\n",
    "        interface.market_order(symbols[1], \"sell\", abs(y_diff))\n",
    "\n",
    "    # update model\n",
    "    model.update(x_data_point, y_data_point)\n",
    "\n",
    "\n",
    "def doNothing(**kwargs):\n",
    "    return\n",
    "\n",
    "\n",
    "alpaca = Alpaca()\n",
    "s = Strategy(alpaca)\n",
    "# [x, y]\n",
    "s.add_prices(BENCHMARK, resolution=\"1d\", to=\"3M\")\n",
    "s.add_arbitrage_event(price_event, TICKERS, resolution=\"1d\", init=init)\n",
    "res = s.backtest(\n",
    "    initial_values={\"USD\": 10000},\n",
    "    to=\"3M\",\n",
    "    use_price=\"open\",\n",
    "    show_progress=True,\n",
    "    risk_free_return_rate=0.04,\n",
    "    benchmark_symbol=BENCHMARK,\n",
    ")"
   ]
  },
  {
   "cell_type": "code",
   "execution_count": 3,
   "metadata": {},
   "outputs": [
    {
     "name": "stdout",
     "output_type": "stream",
     "text": [
      "dict_keys(['SPY', 'NWS', 'NWSA'])\n"
     ]
    }
   ],
   "source": [
    "print(res.history.keys())"
   ]
  },
  {
   "cell_type": "code",
   "execution_count": null,
   "metadata": {},
   "outputs": [],
   "source": []
  }
 ],
 "metadata": {
  "kernelspec": {
   "display_name": "venv",
   "language": "python",
   "name": "python3"
  },
  "language_info": {
   "codemirror_mode": {
    "name": "ipython",
    "version": 3
   },
   "file_extension": ".py",
   "mimetype": "text/x-python",
   "name": "python",
   "nbconvert_exporter": "python",
   "pygments_lexer": "ipython3",
   "version": "3.9.17"
  }
 },
 "nbformat": 4,
 "nbformat_minor": 2
}
